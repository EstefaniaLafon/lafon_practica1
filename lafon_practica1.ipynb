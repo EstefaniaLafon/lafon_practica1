{
  "nbformat": 4,
  "nbformat_minor": 0,
  "metadata": {
    "colab": {
      "provenance": [],
      "authorship_tag": "ABX9TyM9ab4xp6OXsI9RQgacXewO",
      "include_colab_link": true
    },
    "kernelspec": {
      "name": "python3",
      "display_name": "Python 3"
    },
    "language_info": {
      "name": "python"
    }
  },
  "cells": [
    {
      "cell_type": "markdown",
      "metadata": {
        "id": "view-in-github",
        "colab_type": "text"
      },
      "source": [
        "<a href=\"https://colab.research.google.com/github/EstefaniaLafon/lafon_practica1/blob/main/lafon_practica1.ipynb\" target=\"_parent\"><img src=\"https://colab.research.google.com/assets/colab-badge.svg\" alt=\"Open In Colab\"/></a>"
      ]
    },
    {
      "cell_type": "code",
      "execution_count": 1,
      "metadata": {
        "colab": {
          "base_uri": "https://localhost:8080/"
        },
        "id": "TZauDCyiuk2y",
        "outputId": "71c31956-1f93-45b2-d224-1061a9de71e3"
      },
      "outputs": [
        {
          "output_type": "stream",
          "name": "stdout",
          "text": [
            "Cloning into 'ucu_pad_practice_2023_01'...\n",
            "remote: Enumerating objects: 25, done.\u001b[K\n",
            "remote: Counting objects: 100% (25/25), done.\u001b[K\n",
            "remote: Compressing objects: 100% (21/21), done.\u001b[K\n",
            "remote: Total 25 (delta 4), reused 13 (delta 1), pack-reused 0\u001b[K\n",
            "Receiving objects: 100% (25/25), 601.23 KiB | 1.97 MiB/s, done.\n",
            "Resolving deltas: 100% (4/4), done.\n"
          ]
        }
      ],
      "source": [
        "!git clone https://github.com/hchocobar/ucu_pad_practice_2023_01.git"
      ]
    },
    {
      "cell_type": "code",
      "source": [
        "import re\n",
        "\n",
        "with open('/content/ucu_pad_practice_2023_01/data/mbox-short.txt') as file:\n",
        "    pattern = 'New Revision: (\\d+)'\n",
        "    data = []\n",
        "\n",
        "    for line in file:\n",
        "        line = line.rstrip()\n",
        "        result = re.findall(pattern, line)\n",
        "        if result:\n",
        "            data.extend([int(val) for val in result])\n",
        "\n",
        "    if data:\n",
        "        promedio = int(sum(data) / len(data))\n",
        "        print(\"El promedio es:\", promedio)\n",
        "    else:\n",
        "        print(\"La lista 'data' está vacía, no se puede calcular el promedio.\")"
      ],
      "metadata": {
        "colab": {
          "base_uri": "https://localhost:8080/"
        },
        "id": "3VrRDuUMW9RG",
        "outputId": "c4321f2f-96ac-44e4-e12e-36955675b91b"
      },
      "execution_count": 97,
      "outputs": [
        {
          "output_type": "stream",
          "name": "stdout",
          "text": [
            "El promedio es: 39756\n"
          ]
        }
      ]
    },
    {
      "cell_type": "code",
      "source": [
        "import re\n",
        "\n",
        "with open('/content/ucu_pad_practice_2023_01/data/mbox.txt') as file:\n",
        "    pattern = 'New Revision: (\\d+)'\n",
        "    data = []\n",
        "\n",
        "    for line in file:\n",
        "        line = line.rstrip()\n",
        "        result = re.findall(pattern, line)\n",
        "        if result:\n",
        "            data.extend([int(val) for val in result])\n",
        "\n",
        "    if data:\n",
        "        promedio = int(sum(data) / len(data))\n",
        "        print(\"El promedio es:\", promedio)\n",
        "    else:\n",
        "        print(\"La lista 'data' está vacía, no se puede calcular el promedio.\")"
      ],
      "metadata": {
        "colab": {
          "base_uri": "https://localhost:8080/"
        },
        "id": "c76ymd-WXHgx",
        "outputId": "b3ce0d52-fdd8-4563-93bc-1f82ea40cdd4"
      },
      "execution_count": 96,
      "outputs": [
        {
          "output_type": "stream",
          "name": "stdout",
          "text": [
            "El promedio es: 38549\n"
          ]
        }
      ]
    }
  ]
}